{
  "cells": [
    {
      "cell_type": "code",
      "execution_count": null,
      "metadata": {
        "id": "dCXSN3qNeGC7"
      },
      "outputs": [],
      "source": [
        "import pandas as pd\n"
      ]
    },
    {
      "cell_type": "code",
      "execution_count": null,
      "metadata": {
        "id": "nbF3x8O4exrf"
      },
      "outputs": [],
      "source": [
        "df = pd.read_csv('salaries_by_college_major.csv')"
      ]
    },
    {
      "cell_type": "code",
      "execution_count": null,
      "metadata": {
        "colab": {
          "base_uri": "https://localhost:8080/",
          "height": 1000
        },
        "id": "eV3aWpQHfCzU",
        "outputId": "b45beebf-1f7c-4f97-adbe-9592427152c4"
      },
      "outputs": [],
      "source": [
        "df.head(52)"
      ]
    },
    {
      "cell_type": "code",
      "execution_count": null,
      "metadata": {
        "colab": {
          "base_uri": "https://localhost:8080/"
        },
        "id": "9thXVr_bfLiA",
        "outputId": "7b3d3a61-f5e1-4098-e620-99a7c55ad2f9"
      },
      "outputs": [],
      "source": [
        "df.shape"
      ]
    },
    {
      "cell_type": "code",
      "execution_count": null,
      "metadata": {
        "colab": {
          "base_uri": "https://localhost:8080/"
        },
        "id": "LuwZRgl0g9zc",
        "outputId": "442f1e78-9c90-4ee7-98ef-572c56c9e43d"
      },
      "outputs": [],
      "source": [
        "df.columns"
      ]
    },
    {
      "cell_type": "code",
      "execution_count": null,
      "metadata": {
        "id": "orVx6sVpocSV"
      },
      "outputs": [],
      "source": [
        "df = df.dropna()"
      ]
    },
    {
      "cell_type": "code",
      "execution_count": null,
      "metadata": {
        "colab": {
          "base_uri": "https://localhost:8080/"
        },
        "id": "xiY-ywroolkT",
        "outputId": "f7ff4615-ade1-4ed5-ac21-531ac59d88f5"
      },
      "outputs": [],
      "source": [
        "df.tail"
      ]
    },
    {
      "cell_type": "code",
      "execution_count": null,
      "metadata": {
        "colab": {
          "base_uri": "https://localhost:8080/",
          "height": 1000
        },
        "id": "Z1EN4JFlonJM",
        "outputId": "b002b6a0-76f5-4e7e-c438-f726bf715f79"
      },
      "outputs": [],
      "source": [
        "df.head(52)"
      ]
    },
    {
      "cell_type": "code",
      "execution_count": null,
      "metadata": {
        "colab": {
          "base_uri": "https://localhost:8080/"
        },
        "id": "Olpu4Jd1ordt",
        "outputId": "a0df470a-cf6d-4d15-dcb8-73b42b0826b3"
      },
      "outputs": [],
      "source": [
        "clear"
      ]
    },
    {
      "cell_type": "code",
      "execution_count": null,
      "metadata": {
        "colab": {
          "base_uri": "https://localhost:8080/",
          "height": 36
        },
        "id": "wXmy5BNPo7Mr",
        "outputId": "61829d4a-2626-48cf-b788-8855093dd09e"
      },
      "outputs": [],
      "source": [
        "df['Undergraduate Major'][df['Starting Median Salary'].idxmax()]"
      ]
    },
    {
      "cell_type": "code",
      "execution_count": null,
      "metadata": {
        "colab": {
          "base_uri": "https://localhost:8080/"
        },
        "id": "qRkGRyFcpPE3",
        "outputId": "402c9412-92f2-4eaf-c9ac-c59c69925ef1"
      },
      "outputs": [],
      "source": [
        "print(df['Mid-Career Median Salary'].max(), df['Mid-Career Median Salary'].idxmax(), df['Undergraduate Major'][df['Mid-Career Median Salary'].idxmax()])"
      ]
    },
    {
      "cell_type": "code",
      "execution_count": null,
      "metadata": {
        "colab": {
          "base_uri": "https://localhost:8080/"
        },
        "id": "7Shd3toop-sD",
        "outputId": "25de6429-fb14-4856-d0bb-78607350fb27"
      },
      "outputs": [],
      "source": [
        "print(df['Starting Median Salary'].min(), df['Starting Median Salary'].idxmin(), df['Undergraduate Major'][df['Starting Median Salary'].idxmin()])"
      ]
    },
    {
      "cell_type": "code",
      "execution_count": null,
      "metadata": {
        "colab": {
          "base_uri": "https://localhost:8080/"
        },
        "id": "b6Be5NMxrQ3j",
        "outputId": "823cf798-320d-4208-9feb-520b089ef938"
      },
      "outputs": [],
      "source": [
        "print(df['Mid-Career Median Salary'].min(), df['Mid-Career Median Salary'].idxmin() ,df['Undergraduate Major'][df['Mid-Career Median Salary'].idxmin()])"
      ]
    },
    {
      "cell_type": "code",
      "execution_count": null,
      "metadata": {
        "colab": {
          "base_uri": "https://localhost:8080/",
          "height": 71
        },
        "id": "eGhX30awrpWS",
        "outputId": "88556ada-0fa3-4a42-d9f8-c3a2f4aac878"
      },
      "outputs": [],
      "source": [
        "print(df['Mid-Career Median Salary'].max())\n",
        "print(f\"Index for the max mid career salary: {df['Mid-Career Median Salary'].idxmax()}\")\n",
        "df['Undergraduate Major'][8]"
      ]
    },
    {
      "cell_type": "code",
      "execution_count": null,
      "metadata": {
        "colab": {
          "base_uri": "https://localhost:8080/",
          "height": 206
        },
        "id": "5MGSwRSzsZAg",
        "outputId": "91eb1a5f-31e6-4c77-b65c-688469d2ff05"
      },
      "outputs": [],
      "source": [
        "spread_col = df['Mid-Career 90th Percentile Salary'] - df['Mid-Career 10th Percentile Salary']\n",
        "df.insert(1, 'Spread', spread_col)\n",
        "df.head()"
      ]
    },
    {
      "cell_type": "code",
      "execution_count": null,
      "metadata": {
        "colab": {
          "base_uri": "https://localhost:8080/",
          "height": 206
        },
        "id": "h4JFqq5T-oTL",
        "outputId": "a17c413d-8dfd-4419-cf69-e497ba5438fd"
      },
      "outputs": [],
      "source": [
        "low_risk = df.sort_values('Spread')\n",
        "low_risk.head()"
      ]
    },
    {
      "cell_type": "code",
      "execution_count": null,
      "metadata": {
        "colab": {
          "base_uri": "https://localhost:8080/",
          "height": 206
        },
        "id": "qdWpdjEV_VCW",
        "outputId": "50116036-88c4-443e-f081-9ba52e186105"
      },
      "outputs": [],
      "source": [
        "low_risk = df.sort_values('Spread', ascending=False)\n",
        "low_risk.head()"
      ]
    },
    {
      "cell_type": "code",
      "execution_count": null,
      "metadata": {
        "colab": {
          "base_uri": "https://localhost:8080/",
          "height": 187
        },
        "id": "S7canSnd_xpx",
        "outputId": "0cb96a4d-c69e-4d2d-be62-6b62856c7800"
      },
      "outputs": [],
      "source": [
        "low_risk = df['Mid-Career 90th Percentile Salary'].max()\n",
        "low_risk.head()"
      ]
    },
    {
      "cell_type": "code",
      "execution_count": 33,
      "metadata": {
        "colab": {
          "base_uri": "https://localhost:8080/",
          "height": 175
        },
        "id": "2dycjWLeCFxW",
        "outputId": "3215cc95-0de3-42a8-80bd-758cf8fc0720"
      },
      "outputs": [
        {
          "data": {
            "text/html": [
              "<div>\n",
              "<style scoped>\n",
              "    .dataframe tbody tr th:only-of-type {\n",
              "        vertical-align: middle;\n",
              "    }\n",
              "\n",
              "    .dataframe tbody tr th {\n",
              "        vertical-align: top;\n",
              "    }\n",
              "\n",
              "    .dataframe thead th {\n",
              "        text-align: right;\n",
              "    }\n",
              "</style>\n",
              "<table border=\"1\" class=\"dataframe\">\n",
              "  <thead>\n",
              "    <tr style=\"text-align: right;\">\n",
              "      <th></th>\n",
              "      <th>Undergraduate Major</th>\n",
              "      <th>Starting Median Salary</th>\n",
              "      <th>Mid-Career Median Salary</th>\n",
              "      <th>Mid-Career 10th Percentile Salary</th>\n",
              "      <th>Mid-Career 90th Percentile Salary</th>\n",
              "    </tr>\n",
              "    <tr>\n",
              "      <th>Group</th>\n",
              "      <th></th>\n",
              "      <th></th>\n",
              "      <th></th>\n",
              "      <th></th>\n",
              "      <th></th>\n",
              "    </tr>\n",
              "  </thead>\n",
              "  <tbody>\n",
              "    <tr>\n",
              "      <th>Business</th>\n",
              "      <td>12</td>\n",
              "      <td>12</td>\n",
              "      <td>12</td>\n",
              "      <td>12</td>\n",
              "      <td>12</td>\n",
              "    </tr>\n",
              "    <tr>\n",
              "      <th>HASS</th>\n",
              "      <td>22</td>\n",
              "      <td>22</td>\n",
              "      <td>22</td>\n",
              "      <td>22</td>\n",
              "      <td>22</td>\n",
              "    </tr>\n",
              "    <tr>\n",
              "      <th>STEM</th>\n",
              "      <td>16</td>\n",
              "      <td>16</td>\n",
              "      <td>16</td>\n",
              "      <td>16</td>\n",
              "      <td>16</td>\n",
              "    </tr>\n",
              "  </tbody>\n",
              "</table>\n",
              "</div>"
            ],
            "text/plain": [
              "          Undergraduate Major  Starting Median Salary  \\\n",
              "Group                                                   \n",
              "Business                   12                      12   \n",
              "HASS                       22                      22   \n",
              "STEM                       16                      16   \n",
              "\n",
              "          Mid-Career Median Salary  Mid-Career 10th Percentile Salary  \\\n",
              "Group                                                                   \n",
              "Business                        12                                 12   \n",
              "HASS                            22                                 22   \n",
              "STEM                            16                                 16   \n",
              "\n",
              "          Mid-Career 90th Percentile Salary  \n",
              "Group                                        \n",
              "Business                                 12  \n",
              "HASS                                     22  \n",
              "STEM                                     16  "
            ]
          },
          "execution_count": 33,
          "metadata": {},
          "output_type": "execute_result"
        }
      ],
      "source": [
        "df.groupby('Group').count()"
      ]
    },
    {
      "cell_type": "code",
      "execution_count": null,
      "metadata": {
        "id": "SnqTmiMDCFwM"
      },
      "outputs": [],
      "source": []
    },
    {
      "cell_type": "code",
      "execution_count": null,
      "metadata": {
        "id": "SiclAtSbCGVN"
      },
      "outputs": [],
      "source": []
    },
    {
      "cell_type": "code",
      "execution_count": null,
      "metadata": {
        "id": "EdC_YnWrCGTh"
      },
      "outputs": [],
      "source": []
    }
  ],
  "metadata": {
    "colab": {
      "collapsed_sections": [],
      "name": "CollegeMajorDatasets.ipynb",
      "provenance": []
    },
    "kernelspec": {
      "display_name": "Python 3.10.4 64-bit",
      "language": "python",
      "name": "python3"
    },
    "language_info": {
      "codemirror_mode": {
        "name": "ipython",
        "version": 3
      },
      "file_extension": ".py",
      "mimetype": "text/x-python",
      "name": "python",
      "nbconvert_exporter": "python",
      "pygments_lexer": "ipython3",
      "version": "3.10.4"
    },
    "vscode": {
      "interpreter": {
        "hash": "d611b23db79b93ac0550959a9b055f64b37ace7b40acc3a9ad03388251bd0c11"
      }
    }
  },
  "nbformat": 4,
  "nbformat_minor": 0
}
