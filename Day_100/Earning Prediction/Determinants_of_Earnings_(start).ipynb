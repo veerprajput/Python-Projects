{
  "cells": [
    {
      "cell_type": "markdown",
      "metadata": {
        "id": "BHg0HZz-intQ"
      },
      "source": [
        "# Introduction"
      ]
    },
    {
      "cell_type": "markdown",
      "metadata": {
        "id": "V2RQkgAbiqJv"
      },
      "source": [
        "The National Longitudinal Survey of Youth 1997-2011 dataset is one of the most important databases available to social scientists working with US data. \n",
        "\n",
        "It allows scientists to look at the determinants of earnings as well as educational attainment and has incredible relevance for government policy. It can also shed light on politically sensitive issues like how different educational attainment and salaries are for people of different ethnicity, sex, and other factors. When we have a better understanding how these variables affect education and earnings we can also formulate more suitable government policies. \n",
        "\n",
        "<center><img src=https://i.imgur.com/cxBpQ3I.png height=400></center>\n"
      ]
    },
    {
      "cell_type": "markdown",
      "metadata": {
        "id": "YjCPWWUSirY_"
      },
      "source": [
        "### Upgrade Plotly"
      ]
    },
    {
      "cell_type": "code",
      "execution_count": 2,
      "metadata": {
        "id": "v74l3QCGirIX"
      },
      "outputs": [],
      "source": [
        "# %pip install --upgrade plotly"
      ]
    },
    {
      "cell_type": "markdown",
      "metadata": {
        "id": "br_QkHBMjC1Q"
      },
      "source": [
        "###  Import Statements\n"
      ]
    },
    {
      "cell_type": "code",
      "execution_count": 3,
      "metadata": {
        "id": "gSKZx-kwie_u"
      },
      "outputs": [],
      "source": [
        "import pandas as pd\n",
        "import numpy as np\n",
        "\n",
        "import seaborn as sns\n",
        "import plotly.express as px\n",
        "import matplotlib.pyplot as plt\n",
        "\n",
        "from sklearn.linear_model import LinearRegression\n",
        "from sklearn.model_selection import train_test_split"
      ]
    },
    {
      "cell_type": "markdown",
      "metadata": {
        "id": "9pgsrth_izCn"
      },
      "source": [
        "## Notebook Presentation"
      ]
    },
    {
      "cell_type": "code",
      "execution_count": 4,
      "metadata": {
        "id": "Cgwu-WbBizqY"
      },
      "outputs": [],
      "source": [
        "pd.options.display.float_format = '{:,.2f}'.format"
      ]
    },
    {
      "cell_type": "markdown",
      "metadata": {
        "id": "E5bhysOOjLRr"
      },
      "source": [
        "# Load the Data\n",
        "\n"
      ]
    },
    {
      "cell_type": "code",
      "execution_count": 5,
      "metadata": {
        "id": "6VngeTQwjM-X"
      },
      "outputs": [],
      "source": [
        "df = pd.read_csv('NLSY97_subset.csv')"
      ]
    },
    {
      "cell_type": "markdown",
      "metadata": {
        "id": "_ZjIBJ5jjrj0"
      },
      "source": [
        "### Understand the Dataset\n",
        "\n",
        "Have a look at the file entitled `NLSY97_Variable_Names_and_Descriptions.csv`. \n",
        "\n",
        "---------------------------\n",
        "\n",
        "    :Key Variables:  \n",
        "      1. S           Years of schooling (highest grade completed as of 2011)\n",
        "      2. EXP         Total out-of-school work experience (years) as of the 2011 interview.\n",
        "      3. EARNINGS    Current hourly earnings in $ reported at the 2011 interview"
      ]
    },
    {
      "cell_type": "markdown",
      "metadata": {
        "id": "8MkSxkjVnIfW"
      },
      "source": [
        "# Preliminary Data Exploration 🔎\n",
        "\n",
        "**Challenge**\n",
        "\n",
        "* What is the shape of `df_data`? \n",
        "* How many rows and columns does it have?\n",
        "* What are the column names?\n",
        "* Are there any NaN values or duplicates?"
      ]
    },
    {
      "cell_type": "code",
      "execution_count": 6,
      "metadata": {
        "id": "V_cQguBbjwZv"
      },
      "outputs": [
        {
          "name": "stdout",
          "output_type": "stream",
          "text": [
            "(1599, 96)\n",
            "Index(['ID', 'EARNINGS', 'S', 'EXP', 'FEMALE', 'MALE', 'BYEAR', 'AGE',\n",
            "       'AGEMBTH', 'HHINC97', 'POVRAT97', 'HHBMBF', 'HHBMOF', 'HHOMBF',\n",
            "       'HHBMONLY', 'HHBFONLY', 'HHOTHER', 'MSA97NO', 'MSA97NCC', 'MSA97CC',\n",
            "       'MSA97NK', 'ETHBLACK', 'ETHHISP', 'ETHWHITE', 'EDUCPROF', 'EDUCPHD',\n",
            "       'EDUCMAST', 'EDUCBA', 'EDUCAA', 'EDUCHSD', 'EDUCGED', 'EDUCDO',\n",
            "       'PRMONM', 'PRMONF', 'PRMSTYUN', 'PRMSTYPE', 'PRMSTYAN', 'PRMSTYAE',\n",
            "       'PRFSTYUN', 'PRFSTYPE', 'PRFSTYAN', 'PRFSTYAE', 'SINGLE', 'MARRIED',\n",
            "       'COHABIT', 'OTHSING', 'FAITHN', 'FAITHP', 'FAITHC', 'FAITHJ', 'FAITHO',\n",
            "       'FAITHM', 'ASVABAR', 'ASVABWK', 'ASVABPC', 'ASVABMK', 'ASVABNO',\n",
            "       'ASVABCS', 'ASVABC', 'ASVABC4', 'VERBAL', 'ASVABMV', 'HEIGHT',\n",
            "       'WEIGHT04', 'WEIGHT11', 'SF', 'SM', 'SFR', 'SMR', 'SIBLINGS', 'REG97NE',\n",
            "       'REG97NC', 'REG97S', 'REG97W', 'RS97RURL', 'RS97URBN', 'RS97UNKN',\n",
            "       'JOBS', 'HOURS', 'TENURE', 'CATGOV', 'CATPRI', 'CATNPO', 'CATMIS',\n",
            "       'CATSE', 'COLLBARG', 'URBAN', 'REGNE', 'REGNC', 'REGW', 'REGS',\n",
            "       'MSA11NO', 'MSA11NCC', 'MSA11CC', 'MSA11NK', 'MSA11NIC'],\n",
            "      dtype='object')\n",
            "         ID  EARNINGS      S    EXP  FEMALE   MALE  BYEAR    AGE  AGEMBTH  \\\n",
            "0     False     False  False  False   False  False  False  False    False   \n",
            "1     False     False  False  False   False  False  False  False    False   \n",
            "2     False     False  False  False   False  False  False  False    False   \n",
            "3     False     False  False  False   False  False  False  False    False   \n",
            "4     False     False  False  False   False  False  False  False    False   \n",
            "...     ...       ...    ...    ...     ...    ...    ...    ...      ...   \n",
            "1594  False     False  False  False   False  False  False  False    False   \n",
            "1595  False     False  False  False   False  False  False  False    False   \n",
            "1596  False     False  False  False   False  False  False  False    False   \n",
            "1597  False     False  False  False   False  False  False  False    False   \n",
            "1598  False     False  False  False   False  False  False  False    False   \n",
            "\n",
            "      HHINC97  ...  URBAN  REGNE  REGNC   REGW   REGS  MSA11NO  MSA11NCC  \\\n",
            "0       False  ...  False  False  False  False  False    False     False   \n",
            "1       False  ...  False  False  False  False  False    False     False   \n",
            "2       False  ...  False  False  False  False  False    False     False   \n",
            "3        True  ...  False  False  False  False  False    False     False   \n",
            "4       False  ...  False  False  False  False  False    False     False   \n",
            "...       ...  ...    ...    ...    ...    ...    ...      ...       ...   \n",
            "1594     True  ...  False  False  False  False  False    False     False   \n",
            "1595    False  ...  False  False  False  False  False    False     False   \n",
            "1596    False  ...  False  False  False  False  False    False     False   \n",
            "1597     True  ...  False  False  False  False  False    False     False   \n",
            "1598    False  ...  False  False  False  False  False    False     False   \n",
            "\n",
            "      MSA11CC  MSA11NK  MSA11NIC  \n",
            "0       False    False     False  \n",
            "1       False    False     False  \n",
            "2       False    False     False  \n",
            "3       False    False     False  \n",
            "4       False    False     False  \n",
            "...       ...      ...       ...  \n",
            "1594    False    False     False  \n",
            "1595    False    False     False  \n",
            "1596    False    False     False  \n",
            "1597    False    False     False  \n",
            "1598    False    False     False  \n",
            "\n",
            "[1599 rows x 96 columns]\n"
          ]
        }
      ],
      "source": [
        "print(df.shape)\n",
        "print(df.columns)\n",
        "print(df.isna())\n"
      ]
    },
    {
      "cell_type": "markdown",
      "metadata": {
        "id": "4itxqgP6nQj3"
      },
      "source": [
        "## Data Cleaning - Check for Missing Values and Duplicates\n",
        "\n",
        "Find and remove any duplicate rows."
      ]
    },
    {
      "cell_type": "code",
      "execution_count": 7,
      "metadata": {
        "id": "J3DHEFXWnS2N"
      },
      "outputs": [
        {
          "data": {
            "text/html": [
              "<div>\n",
              "<style scoped>\n",
              "    .dataframe tbody tr th:only-of-type {\n",
              "        vertical-align: middle;\n",
              "    }\n",
              "\n",
              "    .dataframe tbody tr th {\n",
              "        vertical-align: top;\n",
              "    }\n",
              "\n",
              "    .dataframe thead th {\n",
              "        text-align: right;\n",
              "    }\n",
              "</style>\n",
              "<table border=\"1\" class=\"dataframe\">\n",
              "  <thead>\n",
              "    <tr style=\"text-align: right;\">\n",
              "      <th></th>\n",
              "      <th>ID</th>\n",
              "      <th>EARNINGS</th>\n",
              "      <th>S</th>\n",
              "      <th>EXP</th>\n",
              "      <th>FEMALE</th>\n",
              "      <th>MALE</th>\n",
              "      <th>BYEAR</th>\n",
              "      <th>AGE</th>\n",
              "      <th>AGEMBTH</th>\n",
              "      <th>HHINC97</th>\n",
              "      <th>...</th>\n",
              "      <th>URBAN</th>\n",
              "      <th>REGNE</th>\n",
              "      <th>REGNC</th>\n",
              "      <th>REGW</th>\n",
              "      <th>REGS</th>\n",
              "      <th>MSA11NO</th>\n",
              "      <th>MSA11NCC</th>\n",
              "      <th>MSA11CC</th>\n",
              "      <th>MSA11NK</th>\n",
              "      <th>MSA11NIC</th>\n",
              "    </tr>\n",
              "  </thead>\n",
              "  <tbody>\n",
              "    <tr>\n",
              "      <th>0</th>\n",
              "      <td>4275</td>\n",
              "      <td>18.50</td>\n",
              "      <td>12</td>\n",
              "      <td>9.71</td>\n",
              "      <td>0</td>\n",
              "      <td>1</td>\n",
              "      <td>1984</td>\n",
              "      <td>27</td>\n",
              "      <td>24.00</td>\n",
              "      <td>64,000.00</td>\n",
              "      <td>...</td>\n",
              "      <td>1</td>\n",
              "      <td>0</td>\n",
              "      <td>0</td>\n",
              "      <td>1</td>\n",
              "      <td>0</td>\n",
              "      <td>0</td>\n",
              "      <td>0</td>\n",
              "      <td>1</td>\n",
              "      <td>0</td>\n",
              "      <td>0</td>\n",
              "    </tr>\n",
              "    <tr>\n",
              "      <th>1</th>\n",
              "      <td>4328</td>\n",
              "      <td>19.23</td>\n",
              "      <td>17</td>\n",
              "      <td>5.71</td>\n",
              "      <td>0</td>\n",
              "      <td>1</td>\n",
              "      <td>1982</td>\n",
              "      <td>29</td>\n",
              "      <td>32.00</td>\n",
              "      <td>6,000.00</td>\n",
              "      <td>...</td>\n",
              "      <td>2</td>\n",
              "      <td>0</td>\n",
              "      <td>0</td>\n",
              "      <td>1</td>\n",
              "      <td>0</td>\n",
              "      <td>0</td>\n",
              "      <td>1</td>\n",
              "      <td>0</td>\n",
              "      <td>0</td>\n",
              "      <td>0</td>\n",
              "    </tr>\n",
              "    <tr>\n",
              "      <th>2</th>\n",
              "      <td>8763</td>\n",
              "      <td>39.05</td>\n",
              "      <td>14</td>\n",
              "      <td>9.94</td>\n",
              "      <td>0</td>\n",
              "      <td>1</td>\n",
              "      <td>1981</td>\n",
              "      <td>30</td>\n",
              "      <td>23.00</td>\n",
              "      <td>88,252.00</td>\n",
              "      <td>...</td>\n",
              "      <td>1</td>\n",
              "      <td>0</td>\n",
              "      <td>0</td>\n",
              "      <td>0</td>\n",
              "      <td>1</td>\n",
              "      <td>0</td>\n",
              "      <td>0</td>\n",
              "      <td>1</td>\n",
              "      <td>0</td>\n",
              "      <td>0</td>\n",
              "    </tr>\n",
              "    <tr>\n",
              "      <th>3</th>\n",
              "      <td>8879</td>\n",
              "      <td>16.80</td>\n",
              "      <td>18</td>\n",
              "      <td>1.54</td>\n",
              "      <td>0</td>\n",
              "      <td>1</td>\n",
              "      <td>1983</td>\n",
              "      <td>28</td>\n",
              "      <td>30.00</td>\n",
              "      <td>NaN</td>\n",
              "      <td>...</td>\n",
              "      <td>1</td>\n",
              "      <td>0</td>\n",
              "      <td>1</td>\n",
              "      <td>0</td>\n",
              "      <td>0</td>\n",
              "      <td>0</td>\n",
              "      <td>1</td>\n",
              "      <td>0</td>\n",
              "      <td>0</td>\n",
              "      <td>0</td>\n",
              "    </tr>\n",
              "    <tr>\n",
              "      <th>4</th>\n",
              "      <td>1994</td>\n",
              "      <td>36.06</td>\n",
              "      <td>15</td>\n",
              "      <td>2.94</td>\n",
              "      <td>0</td>\n",
              "      <td>1</td>\n",
              "      <td>1984</td>\n",
              "      <td>27</td>\n",
              "      <td>23.00</td>\n",
              "      <td>44,188.00</td>\n",
              "      <td>...</td>\n",
              "      <td>1</td>\n",
              "      <td>0</td>\n",
              "      <td>0</td>\n",
              "      <td>0</td>\n",
              "      <td>1</td>\n",
              "      <td>0</td>\n",
              "      <td>0</td>\n",
              "      <td>1</td>\n",
              "      <td>0</td>\n",
              "      <td>0</td>\n",
              "    </tr>\n",
              "    <tr>\n",
              "      <th>...</th>\n",
              "      <td>...</td>\n",
              "      <td>...</td>\n",
              "      <td>...</td>\n",
              "      <td>...</td>\n",
              "      <td>...</td>\n",
              "      <td>...</td>\n",
              "      <td>...</td>\n",
              "      <td>...</td>\n",
              "      <td>...</td>\n",
              "      <td>...</td>\n",
              "      <td>...</td>\n",
              "      <td>...</td>\n",
              "      <td>...</td>\n",
              "      <td>...</td>\n",
              "      <td>...</td>\n",
              "      <td>...</td>\n",
              "      <td>...</td>\n",
              "      <td>...</td>\n",
              "      <td>...</td>\n",
              "      <td>...</td>\n",
              "      <td>...</td>\n",
              "    </tr>\n",
              "    <tr>\n",
              "      <th>1589</th>\n",
              "      <td>4379</td>\n",
              "      <td>10.50</td>\n",
              "      <td>16</td>\n",
              "      <td>4.21</td>\n",
              "      <td>0</td>\n",
              "      <td>1</td>\n",
              "      <td>1983</td>\n",
              "      <td>28</td>\n",
              "      <td>33.00</td>\n",
              "      <td>37,500.00</td>\n",
              "      <td>...</td>\n",
              "      <td>1</td>\n",
              "      <td>0</td>\n",
              "      <td>0</td>\n",
              "      <td>0</td>\n",
              "      <td>1</td>\n",
              "      <td>0</td>\n",
              "      <td>0</td>\n",
              "      <td>1</td>\n",
              "      <td>0</td>\n",
              "      <td>0</td>\n",
              "    </tr>\n",
              "    <tr>\n",
              "      <th>1590</th>\n",
              "      <td>687</td>\n",
              "      <td>12.00</td>\n",
              "      <td>11</td>\n",
              "      <td>8.88</td>\n",
              "      <td>0</td>\n",
              "      <td>1</td>\n",
              "      <td>1983</td>\n",
              "      <td>28</td>\n",
              "      <td>24.00</td>\n",
              "      <td>35,100.00</td>\n",
              "      <td>...</td>\n",
              "      <td>1</td>\n",
              "      <td>0</td>\n",
              "      <td>1</td>\n",
              "      <td>0</td>\n",
              "      <td>0</td>\n",
              "      <td>0</td>\n",
              "      <td>1</td>\n",
              "      <td>0</td>\n",
              "      <td>0</td>\n",
              "      <td>0</td>\n",
              "    </tr>\n",
              "    <tr>\n",
              "      <th>1593</th>\n",
              "      <td>4198</td>\n",
              "      <td>20.00</td>\n",
              "      <td>16</td>\n",
              "      <td>6.73</td>\n",
              "      <td>0</td>\n",
              "      <td>1</td>\n",
              "      <td>1983</td>\n",
              "      <td>28</td>\n",
              "      <td>32.00</td>\n",
              "      <td>43,660.00</td>\n",
              "      <td>...</td>\n",
              "      <td>1</td>\n",
              "      <td>0</td>\n",
              "      <td>0</td>\n",
              "      <td>1</td>\n",
              "      <td>0</td>\n",
              "      <td>0</td>\n",
              "      <td>0</td>\n",
              "      <td>1</td>\n",
              "      <td>0</td>\n",
              "      <td>0</td>\n",
              "    </tr>\n",
              "    <tr>\n",
              "      <th>1595</th>\n",
              "      <td>5599</td>\n",
              "      <td>8.00</td>\n",
              "      <td>12</td>\n",
              "      <td>6.90</td>\n",
              "      <td>0</td>\n",
              "      <td>1</td>\n",
              "      <td>1983</td>\n",
              "      <td>28</td>\n",
              "      <td>20.00</td>\n",
              "      <td>10,002.00</td>\n",
              "      <td>...</td>\n",
              "      <td>0</td>\n",
              "      <td>0</td>\n",
              "      <td>0</td>\n",
              "      <td>1</td>\n",
              "      <td>0</td>\n",
              "      <td>1</td>\n",
              "      <td>0</td>\n",
              "      <td>0</td>\n",
              "      <td>0</td>\n",
              "      <td>0</td>\n",
              "    </tr>\n",
              "    <tr>\n",
              "      <th>1596</th>\n",
              "      <td>3379</td>\n",
              "      <td>40.77</td>\n",
              "      <td>16</td>\n",
              "      <td>8.96</td>\n",
              "      <td>0</td>\n",
              "      <td>1</td>\n",
              "      <td>1982</td>\n",
              "      <td>29</td>\n",
              "      <td>25.00</td>\n",
              "      <td>70,000.00</td>\n",
              "      <td>...</td>\n",
              "      <td>1</td>\n",
              "      <td>0</td>\n",
              "      <td>1</td>\n",
              "      <td>0</td>\n",
              "      <td>0</td>\n",
              "      <td>0</td>\n",
              "      <td>1</td>\n",
              "      <td>0</td>\n",
              "      <td>0</td>\n",
              "      <td>0</td>\n",
              "    </tr>\n",
              "  </tbody>\n",
              "</table>\n",
              "<p>1312 rows × 96 columns</p>\n",
              "</div>"
            ],
            "text/plain": [
              "        ID  EARNINGS   S  EXP  FEMALE  MALE  BYEAR  AGE  AGEMBTH   HHINC97  \\\n",
              "0     4275     18.50  12 9.71       0     1   1984   27    24.00 64,000.00   \n",
              "1     4328     19.23  17 5.71       0     1   1982   29    32.00  6,000.00   \n",
              "2     8763     39.05  14 9.94       0     1   1981   30    23.00 88,252.00   \n",
              "3     8879     16.80  18 1.54       0     1   1983   28    30.00       NaN   \n",
              "4     1994     36.06  15 2.94       0     1   1984   27    23.00 44,188.00   \n",
              "...    ...       ...  ..  ...     ...   ...    ...  ...      ...       ...   \n",
              "1589  4379     10.50  16 4.21       0     1   1983   28    33.00 37,500.00   \n",
              "1590   687     12.00  11 8.88       0     1   1983   28    24.00 35,100.00   \n",
              "1593  4198     20.00  16 6.73       0     1   1983   28    32.00 43,660.00   \n",
              "1595  5599      8.00  12 6.90       0     1   1983   28    20.00 10,002.00   \n",
              "1596  3379     40.77  16 8.96       0     1   1982   29    25.00 70,000.00   \n",
              "\n",
              "      ...  URBAN  REGNE  REGNC  REGW  REGS  MSA11NO  MSA11NCC  MSA11CC  \\\n",
              "0     ...      1      0      0     1     0        0         0        1   \n",
              "1     ...      2      0      0     1     0        0         1        0   \n",
              "2     ...      1      0      0     0     1        0         0        1   \n",
              "3     ...      1      0      1     0     0        0         1        0   \n",
              "4     ...      1      0      0     0     1        0         0        1   \n",
              "...   ...    ...    ...    ...   ...   ...      ...       ...      ...   \n",
              "1589  ...      1      0      0     0     1        0         0        1   \n",
              "1590  ...      1      0      1     0     0        0         1        0   \n",
              "1593  ...      1      0      0     1     0        0         0        1   \n",
              "1595  ...      0      0      0     1     0        1         0        0   \n",
              "1596  ...      1      0      1     0     0        0         1        0   \n",
              "\n",
              "      MSA11NK  MSA11NIC  \n",
              "0           0         0  \n",
              "1           0         0  \n",
              "2           0         0  \n",
              "3           0         0  \n",
              "4           0         0  \n",
              "...       ...       ...  \n",
              "1589        0         0  \n",
              "1590        0         0  \n",
              "1593        0         0  \n",
              "1595        0         0  \n",
              "1596        0         0  \n",
              "\n",
              "[1312 rows x 96 columns]"
            ]
          },
          "execution_count": 7,
          "metadata": {},
          "output_type": "execute_result"
        }
      ],
      "source": [
        "df.drop_duplicates()"
      ]
    },
    {
      "cell_type": "markdown",
      "metadata": {
        "id": "9i4zHYG4nhDL"
      },
      "source": [
        "# Split Training & Test Dataset\n",
        "\n",
        "We *can't* use all the entries in our dataset to train our model. Keep 20% of the data for later as a testing dataset (out-of-sample data).  "
      ]
    },
    {
      "cell_type": "markdown",
      "metadata": {},
      "source": [
        "DF is my training model, and testing_df is my testing model"
      ]
    },
    {
      "cell_type": "code",
      "execution_count": 8,
      "metadata": {},
      "outputs": [],
      "source": [
        "testing_df = pd.read_csv('Testing.csv')"
      ]
    },
    {
      "cell_type": "markdown",
      "metadata": {
        "id": "EM99NOH0noFS"
      },
      "source": [
        "# Simple Linear Regression\n",
        "\n",
        "Only use the years of schooling to predict earnings. Use sklearn to run the regression on the training dataset. How high is the r-squared for the regression on the training data? "
      ]
    },
    {
      "cell_type": "code",
      "execution_count": 9,
      "metadata": {
        "id": "J_MViuoNnvHf"
      },
      "outputs": [
        {
          "data": {
            "text/plain": [
              "0.06799053397850718"
            ]
          },
          "execution_count": 9,
          "metadata": {},
          "output_type": "execute_result"
        }
      ],
      "source": [
        "reg = LinearRegression()\n",
        "reg.fit(df[['S']].values, df['EARNINGS'])\n",
        "reg.score(df[['S']].values, df['EARNINGS'])"
      ]
    },
    {
      "cell_type": "markdown",
      "metadata": {
        "id": "s2TeWKs7oJSa"
      },
      "source": [
        "### Evaluate the Coefficients of the Model\n",
        "\n",
        "Here we do a sense check on our regression coefficients. The first thing to look for is if the coefficients have the expected sign (positive or negative). \n",
        "\n",
        "Interpret the regression. How many extra dollars can one expect to earn for an additional year of schooling?"
      ]
    },
    {
      "cell_type": "code",
      "execution_count": 10,
      "metadata": {
        "id": "QmhzZAmAoW4t"
      },
      "outputs": [
        {
          "data": {
            "text/plain": [
              "array([1.14750398])"
            ]
          },
          "execution_count": 10,
          "metadata": {},
          "output_type": "execute_result"
        }
      ],
      "source": [
        "reg.coef_"
      ]
    },
    {
      "cell_type": "code",
      "execution_count": 11,
      "metadata": {
        "id": "e9hpdAt3oWnq"
      },
      "outputs": [
        {
          "name": "stdout",
          "output_type": "stream",
          "text": [
            "[15.90625314]\n",
            "[17.05375712]\n",
            "[18.2012611]\n"
          ]
        }
      ],
      "source": [
        "print(reg.predict([[12]]))\n",
        "print(reg.predict([[13]]))\n",
        "print(reg.predict([[14]]))\n"
      ]
    },
    {
      "cell_type": "markdown",
      "metadata": {
        "id": "WIyMPXXYobx8"
      },
      "source": [
        "### Analyse the Estimated Values & Regression Residuals\n",
        "\n",
        "How good our regression is also depends on the residuals - the difference between the model's predictions ( 𝑦̂ 𝑖 ) and the true values ( 𝑦𝑖 ) inside y_train. Do you see any patterns in the distribution of the residuals?"
      ]
    },
    {
      "cell_type": "code",
      "execution_count": 12,
      "metadata": {
        "id": "khkgscweosP_"
      },
      "outputs": [
        {
          "name": "stdout",
          "output_type": "stream",
          "text": [
            "[array([-3.90625314]), array([-4.34876508]), array([-4.64377303]), array([-3.90625314]), array([-4.2012611]), array([-4.49626906]), array([-4.2012611]), array([-4.2012611]), array([-5.08628497]), array([-4.2012611]), array([-4.49626906]), array([-4.49626906]), array([-4.49626906]), array([-4.05375712]), array([-4.49626906]), array([-4.34876508]), array([-4.64377303]), array([-4.79127701]), array([-4.49626906]), array([-4.79127701]), array([-3.75874917]), array([-4.05375712]), array([-4.79127701]), array([-3.90625314]), array([-3.75874917]), array([-4.49626906]), array([-4.2012611]), array([-3.61124519]), array([-4.2012611]), array([-3.46374121]), array([-5.08628497]), array([-4.49626906]), array([-4.34876508]), array([-4.79127701]), array([-3.90625314]), array([-4.2012611]), array([-4.49626906]), array([-3.31623723]), array([-4.93878099]), array([-4.49626906]), array([-4.2012611]), array([-4.05375712]), array([-4.64377303]), array([-4.64377303]), array([-4.05375712]), array([-3.90625314]), array([-4.79127701]), array([-4.34876508]), array([-4.2012611]), array([-4.64377303]), array([-3.90625314]), array([-4.79127701]), array([-3.90625314]), array([-3.90625314]), array([-4.2012611]), array([-4.05375712]), array([-4.49626906]), array([-4.64377303]), array([-3.90625314]), array([-4.49626906]), array([-3.46374121]), array([-3.46374121]), array([-4.05375712]), array([-4.2012611]), array([-3.75874917]), array([-3.46374121]), array([-4.93878099]), array([-4.49626906]), array([-4.05375712]), array([-4.49626906]), array([-4.49626906]), array([-4.2012611]), array([-3.90625314]), array([-4.49626906]), array([-4.05375712]), array([-3.90625314]), array([-4.34876508]), array([-4.49626906]), array([-4.49626906]), array([-3.90625314]), array([-4.49626906]), array([-4.2012611]), array([-4.64377303]), array([-4.2012611]), array([-4.34876508]), array([-3.61124519]), array([-4.64377303]), array([-4.05375712]), array([-3.46374121]), array([-4.49626906]), array([-4.64377303]), array([-5.08628497]), array([-4.05375712]), array([-3.90625314]), array([-4.2012611]), array([-4.49626906]), array([-4.49626906]), array([-3.46374121]), array([-4.49626906]), array([-3.90625314]), array([-4.93878099]), array([-4.49626906]), array([-3.90625314]), array([-4.49626906]), array([-3.90625314]), array([-4.2012611]), array([-4.49626906]), array([-4.2012611]), array([-4.05375712]), array([-4.05375712]), array([-3.31623723]), array([-3.61124519]), array([-4.49626906]), array([-3.46374121]), array([-4.64377303]), array([-5.08628497]), array([-4.64377303]), array([-4.79127701]), array([-3.90625314]), array([-4.05375712]), array([-4.79127701]), array([-3.46374121]), array([-4.2012611]), array([-3.75874917]), array([-4.49626906]), array([-4.49626906]), array([-3.90625314]), array([-3.61124519]), array([-3.90625314]), array([-4.2012611]), array([-3.90625314]), array([-4.64377303]), array([-4.64377303]), array([-3.46374121]), array([-4.34876508]), array([-4.34876508]), array([-4.2012611]), array([-4.49626906]), array([-4.64377303]), array([-4.05375712]), array([-3.61124519]), array([-4.2012611]), array([-4.05375712]), array([-4.34876508]), array([-4.49626906]), array([-3.31623723]), array([-3.90625314]), array([-3.90625314]), array([-3.90625314]), array([-3.90625314]), array([-4.05375712]), array([-4.49626906]), array([-4.49626906]), array([-3.75874917]), array([-3.75874917]), array([-4.49626906]), array([-4.05375712]), array([-4.49626906]), array([-4.49626906]), array([-4.93878099]), array([-4.2012611]), array([-4.2012611]), array([-3.90625314]), array([-4.64377303]), array([-4.49626906]), array([-4.79127701]), array([-4.79127701]), array([-4.05375712]), array([-5.08628497]), array([-3.90625314]), array([-4.49626906]), array([-4.49626906]), array([-4.49626906]), array([-4.05375712]), array([-4.49626906]), array([-4.79127701]), array([-3.90625314]), array([-4.34876508]), array([-4.64377303]), array([-4.2012611]), array([-3.90625314]), array([-3.90625314]), array([-4.49626906]), array([-4.79127701]), array([-3.46374121]), array([-4.2012611]), array([-4.79127701]), array([-4.49626906]), array([-3.90625314]), array([-4.49626906]), array([-4.2012611]), array([-4.64377303]), array([-3.75874917]), array([-4.49626906]), array([-4.49626906]), array([-4.79127701]), array([-5.08628497]), array([-3.90625314]), array([-4.05375712]), array([-4.05375712]), array([-3.90625314]), array([-4.79127701]), array([-4.64377303]), array([-3.31623723]), array([-3.90625314]), array([-4.64377303]), array([-4.64377303]), array([-4.05375712]), array([-4.49626906]), array([-4.05375712]), array([-4.05375712]), array([-4.49626906]), array([-4.49626906]), array([-4.05375712]), array([-4.79127701]), array([-4.64377303]), array([-4.34876508]), array([-4.49626906]), array([-4.49626906]), array([-4.2012611]), array([-3.75874917]), array([-4.79127701]), array([-3.75874917]), array([-4.05375712]), array([-4.93878099]), array([-3.90625314]), array([-4.64377303]), array([-4.64377303]), array([-3.75874917]), array([-4.79127701]), array([-4.05375712]), array([-4.49626906]), array([-4.49626906]), array([-4.79127701]), array([-3.90625314]), array([-4.49626906]), array([-4.2012611]), array([-4.79127701]), array([-4.05375712]), array([-4.79127701]), array([-4.34876508]), array([-4.49626906]), array([-4.49626906]), array([-4.79127701]), array([-4.49626906]), array([-4.93878099]), array([-3.90625314]), array([-4.79127701]), array([-4.49626906]), array([-4.79127701]), array([-4.79127701]), array([-4.79127701]), array([-4.79127701]), array([-3.90625314]), array([-4.64377303]), array([-4.79127701]), array([-4.49626906]), array([-4.49626906]), array([-4.34876508]), array([-4.05375712]), array([-3.90625314]), array([-4.2012611]), array([-4.49626906]), array([-5.08628497]), array([-4.49626906]), array([-4.49626906]), array([-4.05375712]), array([-4.64377303]), array([-3.61124519]), array([-4.49626906]), array([-4.34876508]), array([-4.79127701]), array([-4.49626906]), array([-4.05375712]), array([-3.61124519]), array([-4.2012611]), array([-4.49626906]), array([-4.93878099]), array([-3.75874917]), array([-4.49626906]), array([-4.2012611]), array([-4.64377303]), array([-4.49626906]), array([-4.49626906]), array([-4.49626906]), array([-4.34876508]), array([-4.79127701]), array([-4.05375712]), array([-4.49626906]), array([-4.64377303]), array([-4.2012611]), array([-3.90625314]), array([-3.90625314]), array([-3.75874917]), array([-4.79127701]), array([-4.05375712]), array([-4.49626906]), array([-3.90625314]), array([-4.93878099]), array([-4.64377303]), array([-4.49626906]), array([-4.05375712]), array([-5.08628497]), array([-4.2012611]), array([-4.2012611]), array([-4.64377303]), array([-3.90625314]), array([-4.2012611]), array([-3.90625314]), array([-4.2012611]), array([-4.49626906]), array([-4.2012611]), array([-4.49626906]), array([-4.79127701]), array([-4.49626906]), array([-4.34876508]), array([-4.2012611]), array([-4.49626906]), array([-4.05375712]), array([-3.61124519]), array([-4.49626906]), array([-4.49626906]), array([-4.49626906]), array([-4.49626906]), array([-3.75874917]), array([-4.49626906]), array([-4.64377303]), array([-4.05375712]), array([-4.79127701]), array([-4.64377303]), array([-4.49626906]), array([-4.49626906]), array([-4.49626906]), array([-4.49626906]), array([-4.64377303]), array([-4.05375712]), array([-4.2012611]), array([-3.75874917]), array([-4.79127701]), array([-4.2012611]), array([-4.2012611]), array([-3.90625314]), array([-4.79127701]), array([-4.2012611]), array([-4.34876508]), array([-4.49626906]), array([-3.61124519]), array([-4.2012611]), array([-4.79127701]), array([-5.08628497]), array([-3.90625314]), array([-4.34876508]), array([-5.08628497]), array([-4.93878099]), array([-3.61124519]), array([-3.90625314]), array([-3.90625314]), array([-4.64377303]), array([-3.75874917]), array([-4.49626906]), array([-4.49626906]), array([-4.64377303]), array([-4.49626906]), array([-3.90625314]), array([-4.93878099]), array([-3.90625314]), array([-4.79127701]), array([-4.93878099]), array([-4.49626906]), array([-4.49626906]), array([-4.49626906]), array([-3.90625314]), array([-4.49626906]), array([-3.90625314]), array([-4.79127701]), array([-4.64377303]), array([-4.49626906]), array([-4.93878099]), array([-4.05375712]), array([-4.49626906]), array([-3.90625314]), array([-4.49626906]), array([-4.2012611]), array([-4.2012611]), array([-4.2012611]), array([-3.90625314]), array([-4.34876508]), array([-4.05375712]), array([-3.75874917]), array([-3.90625314]), array([-3.90625314]), array([-3.61124519]), array([-4.64377303]), array([-4.2012611]), array([-3.90625314]), array([-3.90625314]), array([-3.31623723]), array([-4.79127701]), array([-4.79127701]), array([-4.49626906]), array([-4.2012611])]\n"
          ]
        }
      ],
      "source": [
        "residuals = []\n",
        "for s in testing_df['S']:\n",
        "    prediction = reg.predict([[s]])\n",
        "    residual = s - prediction\n",
        "    residuals.append(residual)\n",
        "print(residuals)"
      ]
    },
    {
      "cell_type": "markdown",
      "metadata": {
        "id": "zNBuJ1iBnvpl"
      },
      "source": [
        "# Multivariable Regression\n",
        "\n",
        "Now use both years of schooling and the years work experience to predict earnings. How high is the r-squared for the regression on the training data? "
      ]
    },
    {
      "cell_type": "code",
      "execution_count": 13,
      "metadata": {
        "id": "Ihq-C4looCSM"
      },
      "outputs": [
        {
          "data": {
            "text/plain": [
              "0.0958206621011295"
            ]
          },
          "execution_count": 13,
          "metadata": {},
          "output_type": "execute_result"
        }
      ],
      "source": [
        "mreg = LinearRegression()\n",
        "mreg.fit(df[['S', 'EXP']], df['EARNINGS'])\n",
        "mreg.score(df[['S', 'EXP']], df['EARNINGS'])"
      ]
    },
    {
      "cell_type": "markdown",
      "metadata": {
        "id": "nHDtunM0oyuk"
      },
      "source": [
        "### Evaluate the Coefficients of the Model"
      ]
    },
    {
      "cell_type": "code",
      "execution_count": 14,
      "metadata": {
        "id": "5vasqInIoydB"
      },
      "outputs": [
        {
          "data": {
            "text/plain": [
              "array([1.67401216, 0.86688565])"
            ]
          },
          "execution_count": 14,
          "metadata": {},
          "output_type": "execute_result"
        }
      ],
      "source": [
        "mreg.coef_"
      ]
    },
    {
      "cell_type": "markdown",
      "metadata": {
        "id": "Yv8q90IYou2Q"
      },
      "source": [
        "### Analyse the Estimated Values & Regression Residuals"
      ]
    },
    {
      "cell_type": "code",
      "execution_count": 15,
      "metadata": {
        "id": "8NmXnsxfowkI"
      },
      "outputs": [
        {
          "name": "stdout",
          "output_type": "stream",
          "text": [
            "[10.69237509]\n"
          ]
        },
        {
          "name": "stderr",
          "output_type": "stream",
          "text": [
            "c:\\Users\\veerp\\AppData\\Local\\Programs\\Python\\Python311\\Lib\\site-packages\\sklearn\\base.py:464: UserWarning: X does not have valid feature names, but LinearRegression was fitted with feature names\n",
            "  warnings.warn(\n"
          ]
        }
      ],
      "source": [
        "print(mreg.predict([[8, 10]]))"
      ]
    },
    {
      "cell_type": "code",
      "execution_count": 16,
      "metadata": {
        "id": "0ZZ1e0spo5o1"
      },
      "outputs": [],
      "source": [
        "residuals = []\n",
        "for bruh,data in testing_df.iterrows():\n",
        "    prediction = mreg.predict(df[['S', 'EXP']])\n",
        "    residual = s - prediction\n",
        "    residuals.append(residual)"
      ]
    },
    {
      "cell_type": "markdown",
      "metadata": {
        "id": "YWNeoqPLpjVb"
      },
      "source": [
        "# Use Your Model to Make a Prediction\n",
        "\n",
        "How much can someone with a bachelors degree (12 + 4) years of schooling and 5 years work experience expect to earn in 2011?"
      ]
    },
    {
      "cell_type": "code",
      "execution_count": 17,
      "metadata": {
        "id": "Mof-14lCpv60"
      },
      "outputs": [
        {
          "name": "stdout",
          "output_type": "stream",
          "text": [
            "[30.15267193]\n"
          ]
        },
        {
          "name": "stderr",
          "output_type": "stream",
          "text": [
            "c:\\Users\\veerp\\AppData\\Local\\Programs\\Python\\Python311\\Lib\\site-packages\\sklearn\\base.py:464: UserWarning: X does not have valid feature names, but LinearRegression was fitted with feature names\n",
            "  warnings.warn(\n"
          ]
        }
      ],
      "source": [
        "print(mreg.predict([[16, 17]]))"
      ]
    },
    {
      "cell_type": "code",
      "execution_count": 18,
      "metadata": {
        "id": "3htX8_SBpvyb"
      },
      "outputs": [
        {
          "name": "stdout",
          "output_type": "stream",
          "text": [
            "[70.80703692]\n"
          ]
        },
        {
          "name": "stderr",
          "output_type": "stream",
          "text": [
            "c:\\Users\\veerp\\AppData\\Local\\Programs\\Python\\Python311\\Lib\\site-packages\\sklearn\\base.py:464: UserWarning: X does not have valid feature names, but LinearRegression was fitted with feature names\n",
            "  warnings.warn(\n"
          ]
        }
      ],
      "source": [
        "print(mreg.predict([[32, 33]]))"
      ]
    },
    {
      "cell_type": "markdown",
      "metadata": {
        "id": "TIYI-eQepDSQ"
      },
      "source": [
        "# Experiment and Investigate Further\n",
        "\n",
        "Which other features could you consider adding to further improve the regression to better predict earnings? "
      ]
    },
    {
      "cell_type": "code",
      "execution_count": 23,
      "metadata": {
        "id": "sd07-pKopJgo"
      },
      "outputs": [
        {
          "data": {
            "text/html": [
              "<style>#sk-container-id-2 {color: black;}#sk-container-id-2 pre{padding: 0;}#sk-container-id-2 div.sk-toggleable {background-color: white;}#sk-container-id-2 label.sk-toggleable__label {cursor: pointer;display: block;width: 100%;margin-bottom: 0;padding: 0.3em;box-sizing: border-box;text-align: center;}#sk-container-id-2 label.sk-toggleable__label-arrow:before {content: \"▸\";float: left;margin-right: 0.25em;color: #696969;}#sk-container-id-2 label.sk-toggleable__label-arrow:hover:before {color: black;}#sk-container-id-2 div.sk-estimator:hover label.sk-toggleable__label-arrow:before {color: black;}#sk-container-id-2 div.sk-toggleable__content {max-height: 0;max-width: 0;overflow: hidden;text-align: left;background-color: #f0f8ff;}#sk-container-id-2 div.sk-toggleable__content pre {margin: 0.2em;color: black;border-radius: 0.25em;background-color: #f0f8ff;}#sk-container-id-2 input.sk-toggleable__control:checked~div.sk-toggleable__content {max-height: 200px;max-width: 100%;overflow: auto;}#sk-container-id-2 input.sk-toggleable__control:checked~label.sk-toggleable__label-arrow:before {content: \"▾\";}#sk-container-id-2 div.sk-estimator input.sk-toggleable__control:checked~label.sk-toggleable__label {background-color: #d4ebff;}#sk-container-id-2 div.sk-label input.sk-toggleable__control:checked~label.sk-toggleable__label {background-color: #d4ebff;}#sk-container-id-2 input.sk-hidden--visually {border: 0;clip: rect(1px 1px 1px 1px);clip: rect(1px, 1px, 1px, 1px);height: 1px;margin: -1px;overflow: hidden;padding: 0;position: absolute;width: 1px;}#sk-container-id-2 div.sk-estimator {font-family: monospace;background-color: #f0f8ff;border: 1px dotted black;border-radius: 0.25em;box-sizing: border-box;margin-bottom: 0.5em;}#sk-container-id-2 div.sk-estimator:hover {background-color: #d4ebff;}#sk-container-id-2 div.sk-parallel-item::after {content: \"\";width: 100%;border-bottom: 1px solid gray;flex-grow: 1;}#sk-container-id-2 div.sk-label:hover label.sk-toggleable__label {background-color: #d4ebff;}#sk-container-id-2 div.sk-serial::before {content: \"\";position: absolute;border-left: 1px solid gray;box-sizing: border-box;top: 0;bottom: 0;left: 50%;z-index: 0;}#sk-container-id-2 div.sk-serial {display: flex;flex-direction: column;align-items: center;background-color: white;padding-right: 0.2em;padding-left: 0.2em;position: relative;}#sk-container-id-2 div.sk-item {position: relative;z-index: 1;}#sk-container-id-2 div.sk-parallel {display: flex;align-items: stretch;justify-content: center;background-color: white;position: relative;}#sk-container-id-2 div.sk-item::before, #sk-container-id-2 div.sk-parallel-item::before {content: \"\";position: absolute;border-left: 1px solid gray;box-sizing: border-box;top: 0;bottom: 0;left: 50%;z-index: -1;}#sk-container-id-2 div.sk-parallel-item {display: flex;flex-direction: column;z-index: 1;position: relative;background-color: white;}#sk-container-id-2 div.sk-parallel-item:first-child::after {align-self: flex-end;width: 50%;}#sk-container-id-2 div.sk-parallel-item:last-child::after {align-self: flex-start;width: 50%;}#sk-container-id-2 div.sk-parallel-item:only-child::after {width: 0;}#sk-container-id-2 div.sk-dashed-wrapped {border: 1px dashed gray;margin: 0 0.4em 0.5em 0.4em;box-sizing: border-box;padding-bottom: 0.4em;background-color: white;}#sk-container-id-2 div.sk-label label {font-family: monospace;font-weight: bold;display: inline-block;line-height: 1.2em;}#sk-container-id-2 div.sk-label-container {text-align: center;}#sk-container-id-2 div.sk-container {/* jupyter's `normalize.less` sets `[hidden] { display: none; }` but bootstrap.min.css set `[hidden] { display: none !important; }` so we also need the `!important` here to be able to override the default hidden behavior on the sphinx rendered scikit-learn.org. See: https://github.com/scikit-learn/scikit-learn/issues/21755 */display: inline-block !important;position: relative;}#sk-container-id-2 div.sk-text-repr-fallback {display: none;}</style><div id=\"sk-container-id-2\" class=\"sk-top-container\"><div class=\"sk-text-repr-fallback\"><pre>LinearRegression()</pre><b>In a Jupyter environment, please rerun this cell to show the HTML representation or trust the notebook. <br />On GitHub, the HTML representation is unable to render, please try loading this page with nbviewer.org.</b></div><div class=\"sk-container\" hidden><div class=\"sk-item\"><div class=\"sk-estimator sk-toggleable\"><input class=\"sk-toggleable__control sk-hidden--visually\" id=\"sk-estimator-id-2\" type=\"checkbox\" checked><label for=\"sk-estimator-id-2\" class=\"sk-toggleable__label sk-toggleable__label-arrow\">LinearRegression</label><div class=\"sk-toggleable__content\"><pre>LinearRegression()</pre></div></div></div></div></div>"
            ],
            "text/plain": [
              "LinearRegression()"
            ]
          },
          "execution_count": 23,
          "metadata": {},
          "output_type": "execute_result"
        }
      ],
      "source": [
        "mreg = LinearRegression()\n",
        "mreg.fit(df[['S', 'EXP','CATGOV','CATPRI', 'SIBLINGS']].values, df['EARNINGS'])"
      ]
    },
    {
      "cell_type": "code",
      "execution_count": 25,
      "metadata": {
        "id": "Fohe2-Rdp1MO"
      },
      "outputs": [
        {
          "name": "stdout",
          "output_type": "stream",
          "text": [
            "[34.70222724]\n",
            "[34.6974806]\n",
            "[38.14100887]\n"
          ]
        }
      ],
      "source": [
        "print(mreg.predict([[20, 15, 1, 0,2]]))\n",
        "print(mreg.predict([[19, 17, 1, 0,2]]))\n",
        "print(mreg.predict([[23, 13, 1, 0,2]]))\n",
        "# print(mreg.predict([[23,3,0,1,3]]))"
      ]
    }
  ],
  "metadata": {
    "colab": {
      "name": "Determinants of Earnings (start).ipynb",
      "provenance": [],
      "toc_visible": true
    },
    "kernelspec": {
      "display_name": "Python 3",
      "name": "python3"
    },
    "language_info": {
      "codemirror_mode": {
        "name": "ipython",
        "version": 3
      },
      "file_extension": ".py",
      "mimetype": "text/x-python",
      "name": "python",
      "nbconvert_exporter": "python",
      "pygments_lexer": "ipython3",
      "version": "3.11.4"
    }
  },
  "nbformat": 4,
  "nbformat_minor": 0
}
